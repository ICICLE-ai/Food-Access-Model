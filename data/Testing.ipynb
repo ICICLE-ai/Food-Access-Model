{
 "cells": [
  {
   "cell_type": "code",
   "execution_count": null,
   "id": "85df4fd7",
   "metadata": {
    "scrolled": true
   },
   "outputs": [
    {
     "name": "stdout",
     "output_type": "stream",
     "text": [
      "Shapefile CRS: EPSG:3857\n"
     ]
    }
   ],
   "source": [
    "import rasterio\n",
    "from rasterio.mask import mask\n",
    "import numpy as np\n",
    "import pandas as pd\n",
    "import geopandas\n",
    "from shapely.geometry import Polygon, Point\n",
    "from rasterio.warp import calculate_default_transform, reproject, Resampling\n",
    "from shapely.ops import transform\n",
    "import random\n",
    "import requests\n",
    "from io import BytesIO\n",
    "from zipfile import ZipFile\n",
    "import tempfile\n",
    "import os\n",
    "import matplotlib.pyplot as plt\n",
    "import numpy as np\n",
    "import pyproj\n",
    "import zipfile\n",
    "\n",
    "# Define the path to your shapefile or GeoJSON that defines the clipping area\n",
    "tract_url = f\"https://www2.census.gov/geo/tiger/TIGER2023/TRACT/tl_2023_39_tract.zip\"\n",
    "response = requests.request(\"GET\", tract_url)\n",
    "# Use BytesIO to handle the zip file in memory\n",
    "with ZipFile(BytesIO(response.content)) as zip_ref:\n",
    "    # Create a temporary directory to extract the zip file\n",
    "    with tempfile.TemporaryDirectory() as tmpdirname:\n",
    "        zip_ref.extractall(tmpdirname)\n",
    "        \n",
    "        # Find the shapefile or GeoJSON file in the extracted contents\n",
    "        for root, dirs, files in os.walk(tmpdirname):\n",
    "            for file in files:\n",
    "                if file.endswith(\".shp\") or file.endswith(\".geojson\"):\n",
    "                    file_path = os.path.join(root, file)\n",
    "                    # Load the file into a GeoDataFrame\n",
    "                    clipping_shape = geopandas.read_file(file_path)\n",
    "\n",
    "dst_crs = 'EPSG:3857'  # Define your target CRS\n",
    "clipping_shape = clipping_shape.to_crs(dst_crs)\n",
    "print(\"Shapefile CRS:\", clipping_shape.crs)\n",
    "\n",
    "import zipfile\n",
    "import rasterio\n",
    "import matplotlib.pyplot as plt\n",
    "import os\n",
    "\n",
    "# Path to the zip file and the image files inside it\n",
    "zip_path = 'nlcd_2021_land_cover_l48_20230630.zip'\n",
    "img_filename = 'nlcd_2021_land_cover_l48_20230630.img'\n",
    "ige_filename = 'nlcd_2021_land_cover_l48_20230630.ige'\n",
    "\n",
    "# Extract the image files temporarily\n",
    "with zipfile.ZipFile(zip_path, 'r') as zip_ref:\n",
    "    zip_ref.extract(img_filename, 'temp_extracted')\n",
    "    zip_ref.extract(ige_filename, 'temp_extracted')\n",
    "\n",
    "# Open the extracted image file with rasterio\n",
    "with rasterio.open(os.path.join('temp_extracted', img_filename)) as dataset:\n",
    "    # Define the window of interest (in pixel coordinates)\n",
    "    window = rasterio.windows.Window(1000, 1000, 2000, 2000)  # Example window\n",
    "\n",
    "    # Read the data from the window\n",
    "    band1 = dataset.read(1, window=window)\n",
    "\n",
    "    # Plot the raster\n",
    "    plt.figure(figsize=(10, 10))\n",
    "    plt.imshow(band1, cmap='viridis')\n",
    "    plt.title('Raster Image')\n",
    "    plt.colorbar()\n",
    "    plt.show()\n",
    "\n",
    "# Clean up the extracted files (optional)\n",
    "os.remove(os.path.join('temp_extracted', img_filename))\n",
    "os.remove(os.path.join('temp_extracted', ige_filename))\n",
    "os.rmdir('temp_extracted')"
   ]
  },
  {
   "cell_type": "code",
   "execution_count": null,
   "id": "1b80ce8c",
   "metadata": {},
   "outputs": [],
   "source": []
  }
 ],
 "metadata": {
  "kernelspec": {
   "display_name": "Python 3 (ipykernel)",
   "language": "python",
   "name": "python3"
  },
  "language_info": {
   "codemirror_mode": {
    "name": "ipython",
    "version": 3
   },
   "file_extension": ".py",
   "mimetype": "text/x-python",
   "name": "python",
   "nbconvert_exporter": "python",
   "pygments_lexer": "ipython3",
   "version": "3.11.4"
  }
 },
 "nbformat": 4,
 "nbformat_minor": 5
}
